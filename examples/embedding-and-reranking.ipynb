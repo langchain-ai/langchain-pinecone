{
 "cells": [
  {
   "cell_type": "markdown",
   "id": "2e350d91",
   "metadata": {},
   "source": [
    "# Embedding and Reranking"
   ]
  },
  {
   "cell_type": "markdown",
   "id": "fae59a4b",
   "metadata": {},
   "source": [
    "Pinecone is not solely a vector database. The service can be used to create embeddings that power your vector search, and even rerank results to enhance result precision."
   ]
  },
  {
   "cell_type": "code",
   "execution_count": null,
   "id": "277a9b89",
   "metadata": {
    "vscode": {
     "languageId": "plaintext"
    }
   },
   "outputs": [],
   "source": [
    "!pip install -qU \\\n",
    "    \"langchain-pinecone==0.2.12\" \\\n",
    "    \"datasets==4.0.0\""
   ]
  },
  {
   "cell_type": "markdown",
   "id": "a8bdd95b",
   "metadata": {},
   "source": [
    "## Download Dataset"
   ]
  },
  {
   "cell_type": "markdown",
   "id": "3364cf7e",
   "metadata": {},
   "source": [
    "TK in here we can download a dataset, we have a few under `aurelio-labs` organization, or any others are okay too - ideally pre-chunked so we can avoid adding chunking logic here"
   ]
  },
  {
   "cell_type": "markdown",
   "id": "fd1af9dd",
   "metadata": {},
   "source": [
    "## Building an Index"
   ]
  },
  {
   "cell_type": "markdown",
   "id": "eeb4a5b4",
   "metadata": {},
   "source": [
    "TK in here we build the index, including our pinecone embedding model"
   ]
  },
  {
   "cell_type": "markdown",
   "id": "6713cdff",
   "metadata": {},
   "source": [
    "## Retrieval"
   ]
  },
  {
   "cell_type": "markdown",
   "id": "c2cd8fc9",
   "metadata": {},
   "source": [
    "TK in here we do retrieval _without_ reranking"
   ]
  },
  {
   "cell_type": "markdown",
   "id": "1918652f",
   "metadata": {},
   "source": [
    "## Adding Reranking"
   ]
  },
  {
   "cell_type": "markdown",
   "id": "dd32c92d",
   "metadata": {},
   "source": [
    "TK in here we show the impact of reranking"
   ]
  }
 ],
 "metadata": {
  "language_info": {
   "name": "python"
  }
 },
 "nbformat": 4,
 "nbformat_minor": 5
}
