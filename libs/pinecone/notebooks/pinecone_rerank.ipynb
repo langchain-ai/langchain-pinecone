{
 "cells": [
  {
   "cell_type": "markdown",
   "id": "7fb27b941602401d91542211134fc71a",
   "metadata": {},
   "source": [
    "# Pinecone Rerank\n",
    "\n",
    "> This notebook shows how to use **PineconeRerank** for two-stage vector retrieval reranking using Pinecone's hosted reranking API as demonstrated in `langchain_pinecone/libs/pinecone/rerank.py`."
   ]
  },
  {
   "cell_type": "markdown",
   "id": "acae54e37e7d407bbb7b55eff062a284",
   "metadata": {},
   "source": [
    "## Setup\n",
    "Install the `langchain-pinecone` package."
   ]
  },
  {
   "cell_type": "code",
   "execution_count": null,
   "id": "9a63283cbaf04dbcab1f6479b197f3a8",
   "metadata": {},
   "outputs": [],
   "source": [
    "%pip install -qU \"langchain-pinecone\""
   ]
  },
  {
   "cell_type": "markdown",
   "id": "8dd0d8092fe74a7c96281538738b07e2",
   "metadata": {},
   "source": [
    "## Credentials\n",
    "Set your Pinecone API key to use the reranking API."
   ]
  },
  {
   "cell_type": "code",
   "execution_count": null,
   "id": "72eea5119410473aa328ad9291626812",
   "metadata": {},
   "outputs": [],
   "source": [
    "import os\n",
    "from getpass import getpass\n",
    "\n",
    "os.environ[\"PINECONE_API_KEY\"] = os.getenv(\"PINECONE_API_KEY\") or getpass(\n",
    "    \"Enter your Pinecone API key: \"\n",
    ")"
   ]
  },
  {
   "cell_type": "markdown",
   "id": "8edb47106e1a46a883d545849b8ab81b",
   "metadata": {},
   "source": [
    "## Instantiation\n",
    "Use `PineconeRerank` to rerank a list of documents by relevance to a query."
   ]
  },
  {
   "cell_type": "code",
   "execution_count": 1,
   "id": "10185d26023b46108eb7d9f57d49d2b3",
   "metadata": {},
   "outputs": [
    {
     "name": "stderr",
     "output_type": "stream",
     "text": [
      "/Users/jakit/customers/aurelio/pinecone_repos/langchain-pinecone/libs/pinecone/.venv/lib/python3.12/site-packages/tqdm/auto.py:21: TqdmWarning: IProgress not found. Please update jupyter and ipywidgets. See https://ipywidgets.readthedocs.io/en/stable/user_install.html\n",
      "  from .autonotebook import tqdm as notebook_tqdm\n"
     ]
    },
    {
     "name": "stdout",
     "output_type": "stream",
     "text": [
      "Score: 0.9998 | Content: Paris is the capital of France.\n",
      "Score: 0.1950 | Content: The Eiffel Tower is in Paris.\n",
      "Score: 0.0042 | Content: Berlin is the capital of Germany.\n"
     ]
    }
   ],
   "source": [
    "from langchain_core.documents import Document\n",
    "from langchain_pinecone import PineconeRerank\n",
    "\n",
    "# Initialize reranker\n",
    "reranker = PineconeRerank(model=\"bge-reranker-v2-m3\")\n",
    "\n",
    "# Sample documents\n",
    "documents = [\n",
    "    Document(page_content=\"Paris is the capital of France.\"),\n",
    "    Document(page_content=\"Berlin is the capital of Germany.\"),\n",
    "    Document(page_content=\"The Eiffel Tower is in Paris.\"),\n",
    "]\n",
    "\n",
    "# Rerank documents\n",
    "query = \"What is the capital of France?\"\n",
    "reranked_docs = reranker.compress_documents(documents, query)\n",
    "\n",
    "# Print results\n",
    "for doc in reranked_docs:\n",
    "    score = doc.metadata.get(\"relevance_score\")\n",
    "    print(f\"Score: {score:.4f} | Content: {doc.page_content}\")"
   ]
  },
  {
   "cell_type": "markdown",
   "id": "8763a12b2bbd4a93a75aff182afb95dc",
   "metadata": {},
   "source": [
    "## Usage\n",
    "### Reranking with Top-N\n",
    "Specify `top_n` to limit the number of returned documents."
   ]
  },
  {
   "cell_type": "code",
   "execution_count": 2,
   "id": "7623eae2785240b9bd12b16a66d81610",
   "metadata": {},
   "outputs": [
    {
     "name": "stdout",
     "output_type": "stream",
     "text": [
      "Top-1 Result:\n",
      "Score: 0.9998 | Content: Paris is the capital of France.\n"
     ]
    }
   ],
   "source": [
    "# Return only top-1 result\n",
    "reranker_top1 = PineconeRerank(model=\"bge-reranker-v2-m3\", top_n=1)\n",
    "top1_docs = reranker_top1.compress_documents(documents, query)\n",
    "print(\"Top-1 Result:\")\n",
    "for doc in top1_docs:\n",
    "    print(f\"Score: {doc.metadata['relevance_score']:.4f} | Content: {doc.page_content}\")"
   ]
  },
  {
   "cell_type": "markdown",
   "id": "7cdc8c89c7104fffa095e18ddfef8986",
   "metadata": {},
   "source": [
    "## Reranking with Custom Rank Fields\n",
    "If your documents are dictionaries or have custom fields, use `rank_fields` to specify the field to rank on."
   ]
  },
  {
   "cell_type": "code",
   "execution_count": 5,
   "id": "b118ea5561624da68c537baed56e602f",
   "metadata": {},
   "outputs": [
    {
     "name": "stdout",
     "output_type": "stream",
     "text": [
      "ID: doc3 | Score: 0.9892\n",
      "ID: doc1 | Score: 0.0006\n",
      "ID: doc2 | Score: 0.0000\n"
     ]
    }
   ],
   "source": [
    "# Sample dictionary documents with 'text' field\n",
    "docs_dict = [\n",
    "    {\n",
    "        \"id\": \"doc1\",\n",
    "        \"text\": \"Article about renewable energy.\",\n",
    "        \"title\": \"Renewable Energy\",\n",
    "    },\n",
    "    {\"id\": \"doc2\", \"text\": \"Report on economic growth.\", \"title\": \"Economic Growth\"},\n",
    "    {\n",
    "        \"id\": \"doc3\",\n",
    "        \"text\": \"News on climate policy changes.\",\n",
    "        \"title\": \"Climate Policy\",\n",
    "    },\n",
    "]\n",
    "\n",
    "# Initialize reranker with rank_fields\n",
    "reranker_text = PineconeRerank(model=\"bge-reranker-v2-m3\", rank_fields=[\"text\"])\n",
    "climate_docs = reranker_text.rerank(docs_dict, \"Latest news on climate change.\")\n",
    "\n",
    "# Show IDs and scores\n",
    "for res in climate_docs:\n",
    "    print(f\"ID: {res['id']} | Score: {res['score']:.4f}\")"
   ]
  },
  {
   "cell_type": "markdown",
   "id": "a80bb6c3",
   "metadata": {},
   "source": [
    "We can rerank based on title field"
   ]
  },
  {
   "cell_type": "code",
   "execution_count": 6,
   "id": "a6f2768e",
   "metadata": {},
   "outputs": [
    {
     "name": "stdout",
     "output_type": "stream",
     "text": [
      "ID: doc2 | Score: 0.8918 | Title: Economic Growth\n",
      "ID: doc3 | Score: 0.0002 | Title: Climate Policy\n",
      "ID: doc1 | Score: 0.0000 | Title: Renewable Energy\n"
     ]
    }
   ],
   "source": [
    "economic_docs = reranker_text.rerank(docs_dict, \"Economic forecast.\")\n",
    "\n",
    "# Show IDs and scores\n",
    "for res in economic_docs:\n",
    "    print(\n",
    "        f\"ID: {res['id']} | Score: {res['score']:.4f} | Title: {res['document']['title']}\"\n",
    "    )"
   ]
  },
  {
   "cell_type": "markdown",
   "id": "938c804e27f84196a10c8828c723f798",
   "metadata": {},
   "source": [
    "## Reranking with Additional Parameters\n",
    "You can pass model-specific parameters (e.g., `truncate`) directly to `.rerank()`."
   ]
  },
  {
   "cell_type": "markdown",
   "id": "a94c501c",
   "metadata": {},
   "source": [
    "How to handle inputs longer than those supported by the model. Accepted values: END or NONE.\n",
    "END truncates the input sequence at the input token limit. NONE returns an error when the input exceeds the input token limit."
   ]
  },
  {
   "cell_type": "code",
   "execution_count": 7,
   "id": "504fb2a444614c0babb325280ed9130a",
   "metadata": {},
   "outputs": [
    {
     "name": "stdout",
     "output_type": "stream",
     "text": [
      "ID: docA | Score: 0.6950\n",
      "ID: docB | Score: 0.0001\n"
     ]
    }
   ],
   "source": [
    "# Rerank with custom truncate parameter\n",
    "docs_simple = [\n",
    "    {\"id\": \"docA\", \"text\": \"Quantum entanglement is a physical phenomenon...\"},\n",
    "    {\"id\": \"docB\", \"text\": \"Classical mechanics describes motion...\"},\n",
    "]\n",
    "\n",
    "reranked = reranker.rerank(\n",
    "    documents=docs_simple,\n",
    "    query=\"Explain the concept of quantum entanglement.\",\n",
    "    truncate=\"END\",\n",
    ")\n",
    "# Print reranked IDs and scores\n",
    "for res in reranked:\n",
    "    print(f\"ID: {res['id']} | Score: {res['score']:.4f}\")"
   ]
  },
  {
   "cell_type": "markdown",
   "id": "ab78bcd8",
   "metadata": {},
   "source": [
    "## Use within a chain\n"
   ]
  },
  {
   "cell_type": "markdown",
   "id": "f2e4d11e",
   "metadata": {},
   "source": [
    "Create a retreiver from a vector store"
   ]
  },
  {
   "cell_type": "code",
   "execution_count": 11,
   "id": "e1c7a90a",
   "metadata": {},
   "outputs": [],
   "source": [
    "# First setup a vector store\n",
    "from pinecone import Pinecone, ServerlessSpec\n",
    "from langchain_openai import OpenAIEmbeddings\n",
    "from langchain_pinecone import PineconeVectorStore\n",
    "import os\n",
    "\n",
    "pinecone_client = Pinecone(api_key=os.environ.get(\"PINECONE_API_KEY\"))\n",
    "index_name = \"langchain-test-index\"  # change if desired\n",
    "\n",
    "if not pinecone_client.has_index(index_name):\n",
    "    pinecone_client.create_index(\n",
    "        name=index_name,\n",
    "        dimension=1536,\n",
    "        metric=\"cosine\",\n",
    "        spec=ServerlessSpec(cloud=\"aws\", region=\"us-east-1\"),\n",
    "    )\n",
    "\n",
    "# Pinecone index\n",
    "pinecone_index = pinecone_client.Index(index_name)\n",
    "\n",
    "\n",
    "# Embeddings\n",
    "embeddings = OpenAIEmbeddings(model=\"text-embedding-3-small\")\n",
    "\n",
    "# Vector store\n",
    "vector_store = PineconeVectorStore(index=pinecone_index, embedding=embeddings)"
   ]
  },
  {
   "cell_type": "markdown",
   "id": "f9edd9bf",
   "metadata": {},
   "source": [
    "### Manage vector store\n",
    "\n",
    "Once you have created your vector store, we can interact with it by adding and deleting different items.\n",
    "\n",
    "#### Add items to vector store\n",
    "\n",
    "We can add items to our vector store by using the `add_documents` function."
   ]
  },
  {
   "cell_type": "code",
   "execution_count": 12,
   "id": "1ce4c65e",
   "metadata": {},
   "outputs": [
    {
     "data": {
      "text/plain": [
       "['cf539b7b-135c-48d2-b0ac-de36dcf02476',\n",
       " '6ca2dcd9-9c35-4103-893c-113193fee507',\n",
       " '5c3f89d8-4e3f-4799-bfee-9829894c12ae',\n",
       " 'c87d6c2c-8ed5-43f9-b52e-6d2ee3df7b61',\n",
       " 'a8b30bcd-70ae-4325-b957-e998f2b86fab',\n",
       " 'de8f8217-c441-4349-aafc-74df5097082f',\n",
       " '9b24d0e1-1870-421e-a7e7-1b20fc4c46b4',\n",
       " '241d129c-1bfc-4147-bbfd-80fbdb272e15',\n",
       " 'd5c0a209-0005-49e8-adfe-305e04f8f4db',\n",
       " 'bbae478e-2ef3-4e41-8be3-4430b3d01bb6']"
      ]
     },
     "execution_count": 12,
     "metadata": {},
     "output_type": "execute_result"
    }
   ],
   "source": [
    "from uuid import uuid4\n",
    "\n",
    "from langchain_core.documents import Document\n",
    "\n",
    "document_1 = Document(\n",
    "    page_content=\"I had chocolate chip pancakes and scrambled eggs for breakfast this morning.\",\n",
    "    metadata={\"source\": \"tweet\"},\n",
    ")\n",
    "\n",
    "document_2 = Document(\n",
    "    page_content=\"The weather forecast for tomorrow is cloudy and overcast, with a high of 62 degrees.\",\n",
    "    metadata={\"source\": \"news\"},\n",
    ")\n",
    "\n",
    "document_3 = Document(\n",
    "    page_content=\"Building an exciting new project with LangChain - come check it out!\",\n",
    "    metadata={\"source\": \"tweet\"},\n",
    ")\n",
    "\n",
    "document_4 = Document(\n",
    "    page_content=\"Robbers broke into the city bank and stole $1 million in cash.\",\n",
    "    metadata={\"source\": \"news\"},\n",
    ")\n",
    "\n",
    "document_5 = Document(\n",
    "    page_content=\"Wow! That was an amazing movie. I can't wait to see it again.\",\n",
    "    metadata={\"source\": \"tweet\"},\n",
    ")\n",
    "\n",
    "document_6 = Document(\n",
    "    page_content=\"Is the new iPhone worth the price? Read this review to find out.\",\n",
    "    metadata={\"source\": \"website\"},\n",
    ")\n",
    "\n",
    "document_7 = Document(\n",
    "    page_content=\"The top 10 soccer players in the world right now.\",\n",
    "    metadata={\"source\": \"website\"},\n",
    ")\n",
    "\n",
    "document_8 = Document(\n",
    "    page_content=\"LangGraph is the best framework for building stateful, agentic applications!\",\n",
    "    metadata={\"source\": \"tweet\"},\n",
    ")\n",
    "\n",
    "document_9 = Document(\n",
    "    page_content=\"The stock market is down 500 points today due to fears of a recession.\",\n",
    "    metadata={\"source\": \"news\"},\n",
    ")\n",
    "\n",
    "document_10 = Document(\n",
    "    page_content=\"I have a bad feeling I am going to get deleted :(\",\n",
    "    metadata={\"source\": \"tweet\"},\n",
    ")\n",
    "\n",
    "documents = [\n",
    "    document_1,\n",
    "    document_2,\n",
    "    document_3,\n",
    "    document_4,\n",
    "    document_5,\n",
    "    document_6,\n",
    "    document_7,\n",
    "    document_8,\n",
    "    document_9,\n",
    "    document_10,\n",
    "]\n",
    "uuids = [str(uuid4()) for _ in range(len(documents))]\n",
    "vector_store.add_documents(documents=documents, ids=uuids)\n"
   ]
  },
  {
   "cell_type": "markdown",
   "id": "02aa20ff",
   "metadata": {},
   "source": [
    "### Turning into retriever\n",
    "You can also transform the vector store into a retriever for easier usage in your chains."
   ]
  },
  {
   "cell_type": "code",
   "execution_count": 13,
   "id": "0f213d42",
   "metadata": {},
   "outputs": [],
   "source": [
    "retriever = vector_store.as_retriever(\n",
    "    search_type=\"similarity_score_threshold\",\n",
    "    search_kwargs={\"k\": 1, \"score_threshold\": 0.4},\n",
    ")"
   ]
  },
  {
   "cell_type": "markdown",
   "id": "4152ae20",
   "metadata": {},
   "source": [
    "### Combining into chain"
   ]
  },
  {
   "cell_type": "code",
   "execution_count": 23,
   "id": "b9422994",
   "metadata": {},
   "outputs": [
    {
     "name": "stdout",
     "output_type": "stream",
     "text": [
      "Document text: The weather forecast for tomorrow is cloudy and overcast, with a high of 62 degrees.\n",
      "Relevance score: 0.9839091\n",
      "Source: news\n"
     ]
    }
   ],
   "source": [
    "from langchain.retrievers.contextual_compression import ContextualCompressionRetriever\n",
    "from langchain_pinecone import PineconeRerank \n",
    "from langchain_openai import OpenAI\n",
    "\n",
    "llm = OpenAI(temperature=0)\n",
    "compressor = PineconeRerank(model=\"bge-reranker-v2-m3\")\n",
    "\n",
    "compression_retriever = ContextualCompressionRetriever(\n",
    "    base_compressor=compressor, base_retriever=retriever\n",
    ")\n",
    "\n",
    "compressed_docs = compression_retriever.invoke(\n",
    "    \"What is the weather tomorrow?\"\n",
    ")\n",
    "\n",
    "for doc in compressed_docs:\n",
    "    print(f\"Document text: {doc.page_content}\")\n",
    "    print(f\"Relevance score: {doc.metadata.get(\"relevance_score\")}\")\n",
    "    print(f\"Source: {doc.metadata.get(\"source\")}\")\n"
   ]
  },
  {
   "cell_type": "markdown",
   "id": "d24cfdc4",
   "metadata": {},
   "source": [
    "### Using this retriever within a QA pipeline"
   ]
  },
  {
   "cell_type": "code",
   "execution_count": 25,
   "id": "fc8538b1",
   "metadata": {},
   "outputs": [
    {
     "name": "stderr",
     "output_type": "stream",
     "text": [
      "/var/folders/gf/cvm58m_x6pvghy227n5cmx5w0000gn/T/ipykernel_95705/230007408.py:7: LangChainDeprecationWarning: The method `Chain.__call__` was deprecated in langchain 0.1.0 and will be removed in 1.0. Use :meth:`~invoke` instead.\n",
      "  chain({\"query\": \"What is the weather tomorrow?\"})\n"
     ]
    },
    {
     "data": {
      "text/plain": [
       "{'query': 'What is the weather tomorrow?',\n",
       " 'result': ' The weather tomorrow is cloudy and overcast, with a high of 62 degrees.'}"
      ]
     },
     "execution_count": 25,
     "metadata": {},
     "output_type": "execute_result"
    }
   ],
   "source": [
    "from langchain.chains import RetrievalQA\n",
    "\n",
    "chain = RetrievalQA.from_chain_type(\n",
    "    llm=OpenAI(temperature=0), retriever=compression_retriever\n",
    ")\n",
    "\n",
    "chain({\"query\": \"What is the weather tomorrow?\"})"
   ]
  },
  {
   "cell_type": "markdown",
   "id": "59bbdb311c014d738909a11f9e486628",
   "metadata": {},
   "source": [
    "## API reference\n",
    "- `PineconeRerank(model, top_n, rank_fields, return_documents)`\n",
    "- `.rerank(documents, query, rank_fields=None, model=None, top_n=None, truncate=\"END\")`\n",
    "- `.compress_documents(documents, query)` (returns `Document` objects with `relevance_score` in metadata)"
   ]
  },
  {
   "cell_type": "markdown",
   "id": "7113dda6",
   "metadata": {},
   "source": [
    "## Related\n",
    "- Retriever [conceptual guide](https://python.langchain.com/docs/concepts/retrievers/)\n",
    "- Retriever [how-to guides](https://python.langchain.com/docs/how_to/#retrievers)"
   ]
  }
 ],
 "metadata": {
  "kernelspec": {
   "display_name": ".venv",
   "language": "python",
   "name": "python3"
  },
  "language_info": {
   "codemirror_mode": {
    "name": "ipython",
    "version": 3
   },
   "file_extension": ".py",
   "mimetype": "text/x-python",
   "name": "python",
   "nbconvert_exporter": "python",
   "pygments_lexer": "ipython3",
   "version": "3.12.2"
  }
 },
 "nbformat": 4,
 "nbformat_minor": 5
}
